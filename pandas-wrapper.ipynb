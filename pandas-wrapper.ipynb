{
 "cells": [
  {
   "cell_type": "code",
   "execution_count": 2,
   "id": "915ba4ed",
   "metadata": {},
   "outputs": [],
   "source": [
    "import pandas as pd\n",
    "from langchain.llms import OpenAI\n",
    "from langchain.prompts import PromptTemplate\n",
    "from langchain.chains import LLMChain"
   ]
  },
  {
   "cell_type": "code",
   "execution_count": 44,
   "id": "3c906752",
   "metadata": {},
   "outputs": [],
   "source": [
    "llm = OpenAI(temperature=0)\n",
    "template = \"\"\"You are a data scientist working with a pandas dataframe in Python. You should execute code as commanded to either provide information to answer the question or to do the transformations required. If you want to view the results of you command you must use the print function.\n",
    "\n",
    "This is your objective: {objective}\n",
    "\n",
    "Go!\n",
    "\n",
    "```python\n",
    "print(df.head())\n",
    "```\n",
    "```output\n",
    "{df_head}\n",
    "```\n",
    "```python\"\"\"\n",
    "prompt = PromptTemplate(template=template, input_variables=[\"objective\", \"df_head\"])\n",
    "chain = LLMChain(llm=llm, prompt=prompt)"
   ]
  },
  {
   "cell_type": "code",
   "execution_count": 45,
   "id": "91154397",
   "metadata": {},
   "outputs": [],
   "source": [
    "class GPTDF(pd.DataFrame):\n",
    "    \n",
    "    def gpt(self, query):\n",
    "        inputs = {\"objective\": query, \"df_head\": self.head(), \"stop\": \"```\"}\n",
    "        res = chain.run(**inputs)\n",
    "        print(\"suggested code:\")\n",
    "        print(res)\n",
    "        print(\"run this code? y/n\")\n",
    "        inp = input()\n",
    "        if inp == \"y\":\n",
    "            exec(res)"
   ]
  },
  {
   "cell_type": "code",
   "execution_count": 46,
   "id": "c9d45cd9",
   "metadata": {},
   "outputs": [],
   "source": [
    "_df = pd.read_csv(\"compositional_celebrities.csv\")"
   ]
  },
  {
   "cell_type": "code",
   "execution_count": 47,
   "id": "84c02558",
   "metadata": {},
   "outputs": [],
   "source": [
    "df = GPTDF(_df)"
   ]
  },
  {
   "cell_type": "code",
   "execution_count": 48,
   "id": "163ebca1",
   "metadata": {},
   "outputs": [
    {
     "name": "stdout",
     "output_type": "stream",
     "text": [
      "suggested code:\n",
      "\n",
      "print(len(df))\n",
      "\n",
      "run this code? y/n\n",
      "y\n",
      "8693\n"
     ]
    }
   ],
   "source": [
    "df.gpt(\"how many rows are there?\")"
   ]
  },
  {
   "cell_type": "code",
   "execution_count": 49,
   "id": "9fe8277b",
   "metadata": {},
   "outputs": [
    {
     "name": "stdout",
     "output_type": "stream",
     "text": [
      "suggested code:\n",
      "\n",
      "print(df.head(6))\n",
      "\n",
      "run this code? y/n\n",
      "y\n",
      "                                            Question      Answer  \\\n",
      "0     What is the capital of the birthplace of Rumi?   ['Kabul']   \n",
      "1  What is the capital of the birthplace of Ahmad...   ['Kabul']   \n",
      "2  What is the capital of the birthplace of Mahmu...   ['Kabul']   \n",
      "3  What is the capital of the birthplace of Ahmad...   ['Kabul']   \n",
      "4  What is the capital of the birthplace of Annet...   ['Kabul']   \n",
      "5  What is the capital of the birthplace of Skand...  ['Tirana']   \n",
      "\n",
      "             category                                 intermediate_steps  \\\n",
      "0  birthplace_capital  {'Q1': 'What is the birthplace (country only) ...   \n",
      "1  birthplace_capital  {'Q1': 'What is the birthplace (country only) ...   \n",
      "2  birthplace_capital  {'Q1': 'What is the birthplace (country only) ...   \n",
      "3  birthplace_capital  {'Q1': 'What is the birthplace (country only) ...   \n",
      "4  birthplace_capital  {'Q1': 'What is the birthplace (country only) ...   \n",
      "5  birthplace_capital  {'Q1': 'What is the birthplace (country only) ...   \n",
      "\n",
      "                                            metadata  \n",
      "0  {'birth_country': 'Afghanistan', 'capital': ['...  \n",
      "1  {'birth_country': 'Afghanistan', 'capital': ['...  \n",
      "2  {'birth_country': 'Afghanistan', 'capital': ['...  \n",
      "3  {'birth_country': 'Afghanistan', 'capital': ['...  \n",
      "4  {'birth_country': 'Afghanistan', 'capital': ['...  \n",
      "5  {'birth_country': 'Albania', 'capital': ['Tira...  \n"
     ]
    }
   ],
   "source": [
    "df.gpt(\"print out the first 6 rows\")"
   ]
  },
  {
   "cell_type": "code",
   "execution_count": 50,
   "id": "77a80c49",
   "metadata": {},
   "outputs": [
    {
     "name": "stdout",
     "output_type": "stream",
     "text": [
      "suggested code:\n",
      "\n",
      "print(df['category'].value_counts().head(1))\n",
      "\n",
      "run this code? y/n\n",
      "y\n",
      "birthyear_masterchamp    725\n",
      "Name: category, dtype: int64\n"
     ]
    }
   ],
   "source": [
    "df.gpt(\"what is the most frequent category?\")"
   ]
  },
  {
   "cell_type": "code",
   "execution_count": 51,
   "id": "c2dba0f0",
   "metadata": {},
   "outputs": [
    {
     "name": "stdout",
     "output_type": "stream",
     "text": [
      "suggested code:\n",
      "\n",
      "most_frequent_category = df['category'].value_counts().index[0]\n",
      "percentage_of_rows = df['category'].value_counts()[most_frequent_category] / df.shape[0] * 100\n",
      "\n",
      "print(percentage_of_rows)\n",
      "\n",
      "run this code? y/n\n",
      "y\n",
      "8.340043713332566\n"
     ]
    }
   ],
   "source": [
    "df.gpt(\"what % of the rows does the most frequent category make up?\")"
   ]
  },
  {
   "cell_type": "code",
   "execution_count": 52,
   "id": "6f77a727",
   "metadata": {},
   "outputs": [
    {
     "name": "stdout",
     "output_type": "stream",
     "text": [
      "suggested code:\n",
      "\n",
      "print(len(df['category'].unique()))\n",
      "\n",
      "run this code? y/n\n",
      "y\n",
      "17\n"
     ]
    }
   ],
   "source": [
    "df.gpt(\"how many different categories are there?\")"
   ]
  },
  {
   "cell_type": "code",
   "execution_count": null,
   "id": "e01071b6",
   "metadata": {},
   "outputs": [],
   "source": [
    "df.gpt(\"how many different categories are there?\")"
   ]
  }
 ],
 "metadata": {
  "kernelspec": {
   "display_name": "Python 3 (ipykernel)",
   "language": "python",
   "name": "python3"
  },
  "language_info": {
   "codemirror_mode": {
    "name": "ipython",
    "version": 3
   },
   "file_extension": ".py",
   "mimetype": "text/x-python",
   "name": "python",
   "nbconvert_exporter": "python",
   "pygments_lexer": "ipython3",
   "version": "3.10.9"
  }
 },
 "nbformat": 4,
 "nbformat_minor": 5
}

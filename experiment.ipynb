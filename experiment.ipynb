{
 "cells": [
  {
   "cell_type": "code",
   "execution_count": 2,
   "id": "481223ab-c62d-4e5a-89e5-359fce53923a",
   "metadata": {},
   "outputs": [],
   "source": [
    "import requests\n",
    "\n",
    "from langchain.chains import LLMChain\n",
    "from langchain.llms import OpenAI\n",
    "from langchain.prompts import PromptTemplate\n",
    "import pandas as pd"
   ]
  },
  {
   "cell_type": "code",
   "execution_count": 3,
   "id": "9dd9d979-b750-47df-8af1-3559bf2c6670",
   "metadata": {},
   "outputs": [],
   "source": [
    "llm = OpenAI(temperature=0)"
   ]
  },
  {
   "cell_type": "markdown",
   "id": "6390ae0a-c4dc-4ad6-81c1-ad9417d12cdc",
   "metadata": {},
   "source": [
    "### Joining"
   ]
  },
  {
   "cell_type": "code",
   "execution_count": 4,
   "id": "d57f1899-6d41-4f02-85b7-7dc7c4791e57",
   "metadata": {},
   "outputs": [],
   "source": [
    "table_1 = pd.DataFrame(\n",
    "    [\n",
    "        {\"id\": \"abc123\", \"name\": \"Alicia Alicestein\", \"Address\": \"123 Fake Street, 02421\"},\n",
    "        {\"id\": \"abc124\", \"name\": \"Bob Bobua\", \"Address\": \"15 Elevenstein Road, 01515\"},\n",
    "    ]\n",
    ")\n",
    "\n",
    "table_2 = pd.DataFrame(\n",
    "    [\n",
    "        {\"id\": \"def111\", \"name\": \"Bob B.\", \"zip code\": \"01515\"},\n",
    "        {\"id\": \"def222\", \"name\": \"Alicia\", \"zip code\": \"01515\"},\n",
    "        {\"id\": \"def333\", \"name\": \"Alicia\", \"zip code\": \"02421\"},\n",
    "    ]\n",
    ")"
   ]
  },
  {
   "cell_type": "code",
   "execution_count": 5,
   "id": "f1648f55-0c69-4cb7-ad77-092781a41ac7",
   "metadata": {},
   "outputs": [],
   "source": [
    "prompt_template = \"\"\"\n",
    "You have two database tables. Your job is to match the records in each one.\n",
    "\n",
    "Table 1:\n",
    "{table_1_json}\n",
    "\n",
    "Table 2:\n",
    "{table_2_json}\n",
    "\n",
    "Return a JSON array with matched IDs, e.g.,\n",
    "[{{\"table 1 id\": ___, \"table 2 id\": ___}}], etc.\n",
    "\n",
    "Do not return code or explain your reasoning. Just return the JSON result.\n",
    "\"\"\""
   ]
  },
  {
   "cell_type": "code",
   "execution_count": 6,
   "id": "ea612f36-2907-4701-b991-443d49cda0c3",
   "metadata": {},
   "outputs": [],
   "source": [
    "prompt = PromptTemplate(\n",
    "    input_variables=[\"table_1_json\", \"table_2_json\"],\n",
    "    template=prompt_template,\n",
    ")\n",
    "\n",
    "chain = LLMChain(llm=llm, prompt=prompt)"
   ]
  },
  {
   "cell_type": "code",
   "execution_count": 7,
   "id": "239f1b91-5876-439c-8cd7-8bc59d7a4469",
   "metadata": {},
   "outputs": [
    {
     "name": "stdout",
     "output_type": "stream",
     "text": [
      "\n",
      "[\n",
      "  {\"table 1 id\": \"abc123\", \"table 2 id\": \"def333\"},\n",
      "  {\"table 1 id\": \"abc124\", \"table 2 id\": \"def111\"}\n",
      "]\n"
     ]
    }
   ],
   "source": [
    "table_1_json = table_1.to_json(orient=\"records\", indent=2)\n",
    "table_2_json = table_2.to_json(orient=\"records\", indent=2)\n",
    "\n",
    "print(chain.run(table_1_json=table_1_json, table_2_json=table_2_json))"
   ]
  },
  {
   "cell_type": "markdown",
   "id": "7b302094-a12b-4c95-acb2-4afecf2b7fe3",
   "metadata": {},
   "source": [
    "Try with larger tables:"
   ]
  },
  {
   "cell_type": "code",
   "execution_count": 8,
   "id": "5c93d3e5-10f0-4d2d-9780-e231c03edc4c",
   "metadata": {},
   "outputs": [],
   "source": [
    "html = requests.get(\n",
    "    \"https://en.wikipedia.org/wiki/List_of_presidents_of_the_United_States\",\n",
    "    headers={'User-agent': 'Mozilla/5.0'}\n",
    ").text\n",
    "dfs = pd.read_html(html) # load with user agent to avoid 401 error"
   ]
  },
  {
   "cell_type": "code",
   "execution_count": 9,
   "id": "399b44c7-5300-47a1-9a81-cf72290c48e0",
   "metadata": {},
   "outputs": [],
   "source": [
    "presidents_df = dfs[0].sample(25, random_state=0)"
   ]
  },
  {
   "cell_type": "code",
   "execution_count": 10,
   "id": "e06bfbe0-9dd0-4451-9e34-d5e87604a1d4",
   "metadata": {},
   "outputs": [
    {
     "data": {
      "text/html": [
       "<div>\n",
       "<style scoped>\n",
       "    .dataframe tbody tr th:only-of-type {\n",
       "        vertical-align: middle;\n",
       "    }\n",
       "\n",
       "    .dataframe tbody tr th {\n",
       "        vertical-align: top;\n",
       "    }\n",
       "\n",
       "    .dataframe thead th {\n",
       "        text-align: right;\n",
       "    }\n",
       "</style>\n",
       "<table border=\"1\" class=\"dataframe\">\n",
       "  <thead>\n",
       "    <tr style=\"text-align: right;\">\n",
       "      <th></th>\n",
       "      <th>No.[a]</th>\n",
       "      <th>Portrait</th>\n",
       "      <th>Name(Birth–Death)</th>\n",
       "      <th>Term[14]</th>\n",
       "      <th>Party[b][15]</th>\n",
       "      <th>Party[b][15].1</th>\n",
       "      <th>Election</th>\n",
       "      <th>Vice President[16]</th>\n",
       "    </tr>\n",
       "  </thead>\n",
       "  <tbody>\n",
       "    <tr>\n",
       "      <th>25</th>\n",
       "      <td>26</td>\n",
       "      <td>NaN</td>\n",
       "      <td>Theodore Roosevelt(1858–1919)[51]</td>\n",
       "      <td>September 14, 1901[p]–March 4, 1909</td>\n",
       "      <td>NaN</td>\n",
       "      <td>Republican</td>\n",
       "      <td>– 1904</td>\n",
       "      <td>Vacant throughMarch 4, 1905 Charles W. Fairbanks</td>\n",
       "    </tr>\n",
       "    <tr>\n",
       "      <th>22</th>\n",
       "      <td>23</td>\n",
       "      <td>NaN</td>\n",
       "      <td>Benjamin Harrison(1833–1901)[49]</td>\n",
       "      <td>March 4, 1889–March 4, 1893</td>\n",
       "      <td>NaN</td>\n",
       "      <td>Republican</td>\n",
       "      <td>1888</td>\n",
       "      <td>Levi P. Morton</td>\n",
       "    </tr>\n",
       "    <tr>\n",
       "      <th>28</th>\n",
       "      <td>29</td>\n",
       "      <td>NaN</td>\n",
       "      <td>Warren G. Harding(1865–1923)[54]</td>\n",
       "      <td>March 4, 1921–August 2, 1923[e]</td>\n",
       "      <td>NaN</td>\n",
       "      <td>Republican</td>\n",
       "      <td>1920</td>\n",
       "      <td>Calvin Coolidge</td>\n",
       "    </tr>\n",
       "    <tr>\n",
       "      <th>4</th>\n",
       "      <td>5</td>\n",
       "      <td>NaN</td>\n",
       "      <td>James Monroe(1758–1831)[24]</td>\n",
       "      <td>March 4, 1817–March 4, 1825</td>\n",
       "      <td>NaN</td>\n",
       "      <td>Democratic-Republican</td>\n",
       "      <td>1816 1820</td>\n",
       "      <td>Daniel D. Tompkins</td>\n",
       "    </tr>\n",
       "    <tr>\n",
       "      <th>10</th>\n",
       "      <td>11</td>\n",
       "      <td>NaN</td>\n",
       "      <td>James K. Polk(1795–1849)[34]</td>\n",
       "      <td>March 4, 1845–March 4, 1849</td>\n",
       "      <td>NaN</td>\n",
       "      <td>Democratic</td>\n",
       "      <td>1844</td>\n",
       "      <td>George M. Dallas</td>\n",
       "    </tr>\n",
       "  </tbody>\n",
       "</table>\n",
       "</div>"
      ],
      "text/plain": [
       "    No.[a]  Portrait                  Name(Birth–Death)  \\\n",
       "25      26       NaN  Theodore Roosevelt(1858–1919)[51]   \n",
       "22      23       NaN   Benjamin Harrison(1833–1901)[49]   \n",
       "28      29       NaN   Warren G. Harding(1865–1923)[54]   \n",
       "4        5       NaN        James Monroe(1758–1831)[24]   \n",
       "10      11       NaN       James K. Polk(1795–1849)[34]   \n",
       "\n",
       "                               Term[14]  Party[b][15]         Party[b][15].1  \\\n",
       "25  September 14, 1901[p]–March 4, 1909           NaN             Republican   \n",
       "22          March 4, 1889–March 4, 1893           NaN             Republican   \n",
       "28      March 4, 1921–August 2, 1923[e]           NaN             Republican   \n",
       "4           March 4, 1817–March 4, 1825           NaN  Democratic-Republican   \n",
       "10          March 4, 1845–March 4, 1849           NaN             Democratic   \n",
       "\n",
       "     Election                                Vice President[16]  \n",
       "25     – 1904  Vacant throughMarch 4, 1905 Charles W. Fairbanks  \n",
       "22       1888                                    Levi P. Morton  \n",
       "28       1920                                   Calvin Coolidge  \n",
       "4   1816 1820                                Daniel D. Tompkins  \n",
       "10       1844                                  George M. Dallas  "
      ]
     },
     "execution_count": 10,
     "metadata": {},
     "output_type": "execute_result"
    }
   ],
   "source": [
    "presidents_df.head()"
   ]
  },
  {
   "cell_type": "code",
   "execution_count": 11,
   "id": "a6ec4ac7-4424-45d1-b010-7151865840b0",
   "metadata": {},
   "outputs": [],
   "source": [
    "assert(presidents_df.index.is_unique)\n",
    "\n",
    "table_2 = presidents_df.sample(20, random_state=0)"
   ]
  },
  {
   "cell_type": "code",
   "execution_count": 12,
   "id": "25f2776c-1654-4d95-8293-8fe4ae6026b0",
   "metadata": {},
   "outputs": [],
   "source": [
    "import re\n",
    "\n",
    "\n",
    "def _parse_name(text: str) -> str:\n",
    "    \"\"\"Parse name name, birth year, and death year from Names(Birth-Death) column.\"\"\"\n",
    "\n",
    "    pattern = r\"(.*)\\([^0-9]*(\\d{4})\\)*\"\n",
    "    name, birth_year = re.search(pattern, text).groups()\n",
    "    birth_year = int(birth_year)\n",
    "    \n",
    "    \n",
    "    return name, birth_year\n",
    "\n",
    "\n",
    "def _modify_name_pattern_1(name: str) -> str:\n",
    "    \"\"\"Modify 'First Last' to 'First L.'\"\"\"\n",
    "    \n",
    "    split = name.split()\n",
    "    \n",
    "    return f\"{split[0]} {split[-1][0]}.\"\n",
    "\n",
    "\n",
    "def _modify_name_pattern_2(name: str) -> str:\n",
    "    \"\"\"Modify 'First Last' to 'F. Last'\"\"\"\n",
    "    \n",
    "    split = name.split()\n",
    "    \n",
    "    return f\"{split[0][0]}. {split[-1]}\""
   ]
  },
  {
   "cell_type": "code",
   "execution_count": 13,
   "id": "48a0feb3-3778-49c4-a760-c45fcdf50f81",
   "metadata": {},
   "outputs": [],
   "source": [
    "table_2[\"raw_name\"], table_2[\"birth_year\"] = zip(*table_2[\"Name(Birth–Death)\"].apply(_parse_name))\n",
    "\n",
    "table_2[\"name\"] = \"\"\n",
    "sample_idx = table_2.index.isin(table_2.sample(frac=0.5, random_state=1).index)\n",
    "table_2.loc[sample_idx, \"name\"] = table_2.loc[sample_idx, \"raw_name\"].apply(_modify_name_pattern_1)\n",
    "table_2.loc[~sample_idx, \"name\"] = table_2.loc[~sample_idx, \"raw_name\"].apply(_modify_name_pattern_2)\n",
    "\n",
    "table_2 = table_2.rename(columns={\"Party[b][15].1\": \"party\"})\n",
    "\n",
    "table_2 = table_2[[\"name\", \"birth_year\", \"party\"]]"
   ]
  },
  {
   "cell_type": "code",
   "execution_count": 14,
   "id": "35ad41fd-cb54-4d04-8e4f-6bf9d0de0a8c",
   "metadata": {},
   "outputs": [],
   "source": [
    "table_1 = presidents_df[[\"Name(Birth–Death)\", \"Term[14]\", \"Party[b][15].1\", \"Election\", \"Vice President[16]\"]].copy()"
   ]
  },
  {
   "cell_type": "code",
   "execution_count": 15,
   "id": "3f0f9af8-e9bb-44fe-8a9d-8881756cea5e",
   "metadata": {},
   "outputs": [],
   "source": [
    "def _assign_id(df: pd.DataFrame) -> pd.DataFrame:\n",
    "    \"\"\"Prepend id to columns.\"\"\"\n",
    "\n",
    "    columns = df.columns.to_list()\n",
    "    df[\"id\"] = df[\"id\"] = range(df.shape[0])\n",
    "    df = df[[\"id\"] + columns]\n",
    "\n",
    "    return df"
   ]
  },
  {
   "cell_type": "code",
   "execution_count": 16,
   "id": "d68861ef-85ca-435b-bd78-e6f2f0d51db7",
   "metadata": {},
   "outputs": [],
   "source": [
    "table_1 = _assign_id(table_1)\n",
    "table_2 = _assign_id(table_2)"
   ]
  },
  {
   "cell_type": "code",
   "execution_count": 17,
   "id": "7a2f9636-be75-4fdb-a96b-5ac708603c97",
   "metadata": {},
   "outputs": [
    {
     "data": {
      "text/html": [
       "<div>\n",
       "<style scoped>\n",
       "    .dataframe tbody tr th:only-of-type {\n",
       "        vertical-align: middle;\n",
       "    }\n",
       "\n",
       "    .dataframe tbody tr th {\n",
       "        vertical-align: top;\n",
       "    }\n",
       "\n",
       "    .dataframe thead th {\n",
       "        text-align: right;\n",
       "    }\n",
       "</style>\n",
       "<table border=\"1\" class=\"dataframe\">\n",
       "  <thead>\n",
       "    <tr style=\"text-align: right;\">\n",
       "      <th></th>\n",
       "      <th>id</th>\n",
       "      <th>Name(Birth–Death)</th>\n",
       "      <th>Term[14]</th>\n",
       "      <th>Party[b][15].1</th>\n",
       "      <th>Election</th>\n",
       "      <th>Vice President[16]</th>\n",
       "    </tr>\n",
       "  </thead>\n",
       "  <tbody>\n",
       "    <tr>\n",
       "      <th>25</th>\n",
       "      <td>0</td>\n",
       "      <td>Theodore Roosevelt(1858–1919)[51]</td>\n",
       "      <td>September 14, 1901[p]–March 4, 1909</td>\n",
       "      <td>Republican</td>\n",
       "      <td>– 1904</td>\n",
       "      <td>Vacant throughMarch 4, 1905 Charles W. Fairbanks</td>\n",
       "    </tr>\n",
       "    <tr>\n",
       "      <th>22</th>\n",
       "      <td>1</td>\n",
       "      <td>Benjamin Harrison(1833–1901)[49]</td>\n",
       "      <td>March 4, 1889–March 4, 1893</td>\n",
       "      <td>Republican</td>\n",
       "      <td>1888</td>\n",
       "      <td>Levi P. Morton</td>\n",
       "    </tr>\n",
       "    <tr>\n",
       "      <th>28</th>\n",
       "      <td>2</td>\n",
       "      <td>Warren G. Harding(1865–1923)[54]</td>\n",
       "      <td>March 4, 1921–August 2, 1923[e]</td>\n",
       "      <td>Republican</td>\n",
       "      <td>1920</td>\n",
       "      <td>Calvin Coolidge</td>\n",
       "    </tr>\n",
       "  </tbody>\n",
       "</table>\n",
       "</div>"
      ],
      "text/plain": [
       "    id                  Name(Birth–Death)  \\\n",
       "25   0  Theodore Roosevelt(1858–1919)[51]   \n",
       "22   1   Benjamin Harrison(1833–1901)[49]   \n",
       "28   2   Warren G. Harding(1865–1923)[54]   \n",
       "\n",
       "                               Term[14] Party[b][15].1 Election  \\\n",
       "25  September 14, 1901[p]–March 4, 1909     Republican   – 1904   \n",
       "22          March 4, 1889–March 4, 1893     Republican     1888   \n",
       "28      March 4, 1921–August 2, 1923[e]     Republican     1920   \n",
       "\n",
       "                                  Vice President[16]  \n",
       "25  Vacant throughMarch 4, 1905 Charles W. Fairbanks  \n",
       "22                                    Levi P. Morton  \n",
       "28                                   Calvin Coolidge  "
      ]
     },
     "execution_count": 17,
     "metadata": {},
     "output_type": "execute_result"
    }
   ],
   "source": [
    "table_1.head(3)"
   ]
  },
  {
   "cell_type": "code",
   "execution_count": 18,
   "id": "992aa2f8-ebbf-4b57-acc2-fdbdf01496bc",
   "metadata": {},
   "outputs": [
    {
     "data": {
      "text/html": [
       "<div>\n",
       "<style scoped>\n",
       "    .dataframe tbody tr th:only-of-type {\n",
       "        vertical-align: middle;\n",
       "    }\n",
       "\n",
       "    .dataframe tbody tr th {\n",
       "        vertical-align: top;\n",
       "    }\n",
       "\n",
       "    .dataframe thead th {\n",
       "        text-align: right;\n",
       "    }\n",
       "</style>\n",
       "<table border=\"1\" class=\"dataframe\">\n",
       "  <thead>\n",
       "    <tr style=\"text-align: right;\">\n",
       "      <th></th>\n",
       "      <th>id</th>\n",
       "      <th>name</th>\n",
       "      <th>birth_year</th>\n",
       "      <th>party</th>\n",
       "    </tr>\n",
       "  </thead>\n",
       "  <tbody>\n",
       "    <tr>\n",
       "      <th>31</th>\n",
       "      <td>0</td>\n",
       "      <td>F. Roosevelt</td>\n",
       "      <td>1882</td>\n",
       "      <td>Democratic</td>\n",
       "    </tr>\n",
       "    <tr>\n",
       "      <th>28</th>\n",
       "      <td>1</td>\n",
       "      <td>Warren H.</td>\n",
       "      <td>1865</td>\n",
       "      <td>Republican</td>\n",
       "    </tr>\n",
       "    <tr>\n",
       "      <th>41</th>\n",
       "      <td>2</td>\n",
       "      <td>Bill C.</td>\n",
       "      <td>1946</td>\n",
       "      <td>Democratic</td>\n",
       "    </tr>\n",
       "  </tbody>\n",
       "</table>\n",
       "</div>"
      ],
      "text/plain": [
       "    id          name  birth_year       party\n",
       "31   0  F. Roosevelt        1882  Democratic\n",
       "28   1     Warren H.        1865  Republican\n",
       "41   2       Bill C.        1946  Democratic"
      ]
     },
     "execution_count": 18,
     "metadata": {},
     "output_type": "execute_result"
    }
   ],
   "source": [
    "table_2.head(3)"
   ]
  },
  {
   "cell_type": "code",
   "execution_count": 19,
   "id": "b84dc3a1-1df6-47d9-9de6-9dd1c99a57b1",
   "metadata": {},
   "outputs": [
    {
     "name": "stdout",
     "output_type": "stream",
     "text": [
      "(25, 10)\n"
     ]
    },
    {
     "data": {
      "text/html": [
       "<div>\n",
       "<style scoped>\n",
       "    .dataframe tbody tr th:only-of-type {\n",
       "        vertical-align: middle;\n",
       "    }\n",
       "\n",
       "    .dataframe tbody tr th {\n",
       "        vertical-align: top;\n",
       "    }\n",
       "\n",
       "    .dataframe thead th {\n",
       "        text-align: right;\n",
       "    }\n",
       "</style>\n",
       "<table border=\"1\" class=\"dataframe\">\n",
       "  <thead>\n",
       "    <tr style=\"text-align: right;\">\n",
       "      <th></th>\n",
       "      <th>id_1</th>\n",
       "      <th>Name(Birth–Death)</th>\n",
       "      <th>Term[14]</th>\n",
       "      <th>Party[b][15].1</th>\n",
       "      <th>Election</th>\n",
       "      <th>Vice President[16]</th>\n",
       "      <th>id_2</th>\n",
       "      <th>name</th>\n",
       "      <th>birth_year</th>\n",
       "      <th>party</th>\n",
       "    </tr>\n",
       "  </thead>\n",
       "  <tbody>\n",
       "    <tr>\n",
       "      <th>25</th>\n",
       "      <td>0</td>\n",
       "      <td>Theodore Roosevelt(1858–1919)[51]</td>\n",
       "      <td>September 14, 1901[p]–March 4, 1909</td>\n",
       "      <td>Republican</td>\n",
       "      <td>– 1904</td>\n",
       "      <td>Vacant throughMarch 4, 1905 Charles W. Fairbanks</td>\n",
       "      <td>NaN</td>\n",
       "      <td>NaN</td>\n",
       "      <td>NaN</td>\n",
       "      <td>NaN</td>\n",
       "    </tr>\n",
       "    <tr>\n",
       "      <th>22</th>\n",
       "      <td>1</td>\n",
       "      <td>Benjamin Harrison(1833–1901)[49]</td>\n",
       "      <td>March 4, 1889–March 4, 1893</td>\n",
       "      <td>Republican</td>\n",
       "      <td>1888</td>\n",
       "      <td>Levi P. Morton</td>\n",
       "      <td>10.0</td>\n",
       "      <td>Benjamin H.</td>\n",
       "      <td>1833.0</td>\n",
       "      <td>Republican</td>\n",
       "    </tr>\n",
       "    <tr>\n",
       "      <th>28</th>\n",
       "      <td>2</td>\n",
       "      <td>Warren G. Harding(1865–1923)[54]</td>\n",
       "      <td>March 4, 1921–August 2, 1923[e]</td>\n",
       "      <td>Republican</td>\n",
       "      <td>1920</td>\n",
       "      <td>Calvin Coolidge</td>\n",
       "      <td>1.0</td>\n",
       "      <td>Warren H.</td>\n",
       "      <td>1865.0</td>\n",
       "      <td>Republican</td>\n",
       "    </tr>\n",
       "    <tr>\n",
       "      <th>4</th>\n",
       "      <td>3</td>\n",
       "      <td>James Monroe(1758–1831)[24]</td>\n",
       "      <td>March 4, 1817–March 4, 1825</td>\n",
       "      <td>Democratic-Republican</td>\n",
       "      <td>1816 1820</td>\n",
       "      <td>Daniel D. Tompkins</td>\n",
       "      <td>NaN</td>\n",
       "      <td>NaN</td>\n",
       "      <td>NaN</td>\n",
       "      <td>NaN</td>\n",
       "    </tr>\n",
       "    <tr>\n",
       "      <th>10</th>\n",
       "      <td>4</td>\n",
       "      <td>James K. Polk(1795–1849)[34]</td>\n",
       "      <td>March 4, 1845–March 4, 1849</td>\n",
       "      <td>Democratic</td>\n",
       "      <td>1844</td>\n",
       "      <td>George M. Dallas</td>\n",
       "      <td>16.0</td>\n",
       "      <td>James P.</td>\n",
       "      <td>1795.0</td>\n",
       "      <td>Democratic</td>\n",
       "    </tr>\n",
       "  </tbody>\n",
       "</table>\n",
       "</div>"
      ],
      "text/plain": [
       "    id_1                  Name(Birth–Death)  \\\n",
       "25     0  Theodore Roosevelt(1858–1919)[51]   \n",
       "22     1   Benjamin Harrison(1833–1901)[49]   \n",
       "28     2   Warren G. Harding(1865–1923)[54]   \n",
       "4      3        James Monroe(1758–1831)[24]   \n",
       "10     4       James K. Polk(1795–1849)[34]   \n",
       "\n",
       "                               Term[14]         Party[b][15].1   Election  \\\n",
       "25  September 14, 1901[p]–March 4, 1909             Republican     – 1904   \n",
       "22          March 4, 1889–March 4, 1893             Republican       1888   \n",
       "28      March 4, 1921–August 2, 1923[e]             Republican       1920   \n",
       "4           March 4, 1817–March 4, 1825  Democratic-Republican  1816 1820   \n",
       "10          March 4, 1845–March 4, 1849             Democratic       1844   \n",
       "\n",
       "                                  Vice President[16]  id_2         name  \\\n",
       "25  Vacant throughMarch 4, 1905 Charles W. Fairbanks   NaN          NaN   \n",
       "22                                    Levi P. Morton  10.0  Benjamin H.   \n",
       "28                                   Calvin Coolidge   1.0    Warren H.   \n",
       "4                                 Daniel D. Tompkins   NaN          NaN   \n",
       "10                                  George M. Dallas  16.0     James P.   \n",
       "\n",
       "    birth_year       party  \n",
       "25         NaN         NaN  \n",
       "22      1833.0  Republican  \n",
       "28      1865.0  Republican  \n",
       "4          NaN         NaN  \n",
       "10      1795.0  Democratic  "
      ]
     },
     "execution_count": 19,
     "metadata": {},
     "output_type": "execute_result"
    }
   ],
   "source": [
    "ground_truth = table_1.join(table_2, lsuffix=\"_1\", rsuffix=\"_2\")\n",
    "\n",
    "print(ground_truth.shape)\n",
    "\n",
    "ground_truth.head()"
   ]
  },
  {
   "cell_type": "code",
   "execution_count": 20,
   "id": "d19511ff-d442-4815-bb19-ea6a4ddbfac0",
   "metadata": {},
   "outputs": [
    {
     "name": "stdout",
     "output_type": "stream",
     "text": [
      "\n",
      "[{\"table 1 id\": 0, \"table 2 id\": 0},{\"table 1 id\": 1, \"table 2 id\": 10},{\"table 1 id\": 2, \"table 2 id\": 1},{\"table 1 id\": 3, \"table 2 id\": 12},{\"table 1 id\": 4, \"table 2 id\": 16},{\"table 1 id\": 5, \"table 2 id\": 17},{\"table 1 id\": 6, \"table 2 id\": 14},{\"table 1 id\": 7, \"table 2 id\": 18},{\"table 1 id\": 8, \"table 2 id\": 13},{\"table 1 id\": 9, \"table 2 id\": 17},{\"table 1 id\": 10, \"table 2 id\": 11},{\"table 1 id\": 11, \"table 2 id\": 4},{\"table 1 id\": 12, \"table 2 id\": 19},{\"table 1 id\": 13, \"table 2 id\": 12},{\"table 1 id\": 14, \"table 2 id\": 9},{\"table 1 id\": 15, \"table 2 id\": 10},{\"table 1 id\": 16, \"table 2 id\": 3},{\"table 1 id\": 17, \"table 2 id\": 6},{\"table 1 id\": 18, \"table 2 id\": 15},{\"table 1 id\": 19,\n"
     ]
    }
   ],
   "source": [
    "table_1_json = table_1.to_json(orient=\"records\", indent=2)\n",
    "table_2_json = table_2.to_json(orient=\"records\", indent=2)\n",
    "\n",
    "result = chain.run(table_1_json=table_1_json, table_2_json=table_2_json)\n",
    "\n",
    "print(result)"
   ]
  },
  {
   "cell_type": "code",
   "execution_count": 21,
   "id": "9490550e-5919-4d30-8abf-49f5eeaad25f",
   "metadata": {},
   "outputs": [],
   "source": [
    "def _hack_to_valid_json(invalid_json_str: str) -> str:\n",
    "    \"\"\"Turn an invalid JSON string to a valid one, sometimes.\"\"\"\n",
    "    \n",
    "    return result[:result.rfind(\"}\") + 1] + \"]\""
   ]
  },
  {
   "cell_type": "code",
   "execution_count": 22,
   "id": "7291c276-83f2-4a18-892e-19aee3982061",
   "metadata": {},
   "outputs": [
    {
     "data": {
      "text/plain": [
       "[{'table 1 id': 0, 'table 2 id': 0},\n",
       " {'table 1 id': 1, 'table 2 id': 10},\n",
       " {'table 1 id': 2, 'table 2 id': 1}]"
      ]
     },
     "execution_count": 22,
     "metadata": {},
     "output_type": "execute_result"
    }
   ],
   "source": [
    "import json\n",
    "\n",
    "predicted_ids = json.loads(_hack_to_valid_json(result))\n",
    "\n",
    "predicted_ids[:3]"
   ]
  },
  {
   "cell_type": "code",
   "execution_count": 23,
   "id": "2675aef6-2beb-4ebd-8f70-8735f7f76083",
   "metadata": {},
   "outputs": [],
   "source": [
    "predicted_id_pairs = pd.Series(tuple(pair.values()) for pair in predicted_ids)"
   ]
  },
  {
   "cell_type": "code",
   "execution_count": 24,
   "id": "918afbc8-015a-48df-abbb-4da8fce06821",
   "metadata": {},
   "outputs": [],
   "source": [
    "gt = ground_truth.dropna(subset=[\"id_1\", \"id_2\"])\n",
    "\n",
    "ground_truth_id_pairs = pd.Series(zip(gt[\"id_1\"], gt[\"id_2\"]))"
   ]
  },
  {
   "cell_type": "code",
   "execution_count": 25,
   "id": "e6b537ed-684a-4d42-9bde-acde80efe008",
   "metadata": {},
   "outputs": [
    {
     "name": "stdout",
     "output_type": "stream",
     "text": [
      "Recall: 0.7\n",
      "Precision: 0.7368421052631579\n"
     ]
    }
   ],
   "source": [
    "recall = ground_truth_id_pairs.isin(predicted_id_pairs).mean()\n",
    "precision = predicted_id_pairs.isin(ground_truth_id_pairs).mean()\n",
    "\n",
    "print(f\"Recall: {recall}\")\n",
    "print(f\"Precision: {precision}\")"
   ]
  },
  {
   "cell_type": "markdown",
   "id": "953aba31-b61e-492a-be91-d7df6c0b29ca",
   "metadata": {},
   "source": [
    "### Flattening"
   ]
  },
  {
   "cell_type": "code",
   "execution_count": 26,
   "id": "229e3299-b592-4085-8a0d-064a109e5581",
   "metadata": {},
   "outputs": [],
   "source": [
    "html = requests.get(\n",
    "    \"https://www.sec.gov/Archives/edgar/data/320193/000119312510238044/d10k.htm\", # Apple 10k filing from 2010\n",
    "    headers={'User-agent': 'Mozilla/5.0'}\n",
    ").text\n",
    "dfs = pd.read_html(html) # load with user agent to avoid 401 error\n",
    "\n",
    "table_csv = dfs[14].to_csv()"
   ]
  },
  {
   "cell_type": "code",
   "execution_count": 27,
   "id": "bb4710f9-9b86-4815-9eda-b116ad251b0a",
   "metadata": {},
   "outputs": [
    {
     "name": "stdout",
     "output_type": "stream",
     "text": [
      ",0,1,2,3,4,5,6,7,8,9,10,11,12,13,14,15,16,17,18,19,20\n",
      "0,,,,,,,,,,,,,,,,,,,,,\n",
      "1,,,2010,2010.0,,,2009,2009.0,,,2008,2008.0,,,2007,2007.0,,,2006,2006.0,\n",
      "2,Net sales,,$,65225.0,,,$,42905.0,,,$,37491.0,,,$,24578.0,,,$,19315.0,\n",
      "3,Net income,,$,14013.0,,,$,8235.0,,,$,6119.0,,,$,3495.0,,,$,1989.0,\n",
      "4,Earnings per common share:,,,,,,,,,,,,,,,,,,,,\n",
      "5,Basic,,$,15.41,,,$,9.22,,,$,6.94,,,$,4.04,,,$,2.36,\n",
      "6,Diluted,,$,15.15,,,$,9.08,,,$,6.78,,,$,3.93,,,$,2.27,\n",
      "7,Cash dividends declared per common share,,$,0.0,,,$,0.0,,,$,0.0,,,$,0.0,,,$,0.0,\n",
      "8,Shares used in computing earnings per share:,,,,,,,,,,,,,,,,,,,,\n",
      "9,Basic,,,909461.0,,,,893016.0,,,,881592.0,,,,864595.0,,,,844058.0,\n",
      "10,Diluted,,,924712.0,,,,907005.0,,,,902139.0,,,,889292.0,,,,877526.0,\n",
      "11,,,,,,,,,,,,,,,,,,,,,\n",
      "12,\"Total cash, cash equivalents and marketable securities\",,$,51011.0,,,$,33992.0,,,$,24490.0,,,$,15386.0,,,$,10110.0,\n",
      "13,Total assets,,$,75183.0,,,$,47501.0,,,$,36171.0,,,$,24878.0,,,$,17205.0,\n",
      "14,Total long-term obligations (a),,$,5531.0,,,$,3502.0,,,$,1745.0,,,$,687.0,,,$,395.0,\n",
      "15,Total liabilities,,$,27392.0,,,$,15861.0,,,$,13874.0,,,$,10347.0,,,$,7221.0,\n",
      "16,Total shareholders equity,,$,47791.0,,,$,31640.0,,,$,22297.0,,,$,14531.0,,,$,9984.0,\n",
      "\n"
     ]
    }
   ],
   "source": [
    "print(table_csv)"
   ]
  },
  {
   "cell_type": "code",
   "execution_count": 28,
   "id": "ae5de94f-2cba-4acf-9bc6-882c82bd2b3f",
   "metadata": {},
   "outputs": [
    {
     "data": {
      "text/html": [
       "<div>\n",
       "<style scoped>\n",
       "    .dataframe tbody tr th:only-of-type {\n",
       "        vertical-align: middle;\n",
       "    }\n",
       "\n",
       "    .dataframe tbody tr th {\n",
       "        vertical-align: top;\n",
       "    }\n",
       "\n",
       "    .dataframe thead th {\n",
       "        text-align: right;\n",
       "    }\n",
       "</style>\n",
       "<table border=\"1\" class=\"dataframe\">\n",
       "  <thead>\n",
       "    <tr style=\"text-align: right;\">\n",
       "      <th></th>\n",
       "      <th>Electric</th>\n",
       "      <th>Water/Sewer</th>\n",
       "    </tr>\n",
       "  </thead>\n",
       "  <tbody>\n",
       "    <tr>\n",
       "      <th>10/6/2022</th>\n",
       "      <td>£128.13</td>\n",
       "      <td>£134.90</td>\n",
       "    </tr>\n",
       "  </tbody>\n",
       "</table>\n",
       "</div>"
      ],
      "text/plain": [
       "          Electric Water/Sewer\n",
       "10/6/2022  £128.13     £134.90"
      ]
     },
     "execution_count": 28,
     "metadata": {},
     "output_type": "execute_result"
    }
   ],
   "source": [
    "example_df = pd.DataFrame([{\"Electric\": \"£128.13\", \"Water/Sewer\": \"£134.90\"}], index=[\"10/6/2022\"])\n",
    "\n",
    "example_df"
   ]
  },
  {
   "cell_type": "code",
   "execution_count": 31,
   "id": "81d0ec98-6258-4098-a7b3-cec02c15b585",
   "metadata": {},
   "outputs": [],
   "source": [
    "prompt = f\"\"\"\n",
    "Flatten this table by inferring names for the columns and returning the output as JSON records.\n",
    "Do not explain your reasoning or provide code. Just return the JSON records.\n",
    "\n",
    "For example, if the input is\n",
    "\n",
    "\tElectric\tWater/Sewer\n",
    "10/6/2022\t£128.13\t£134.90\n",
    "\n",
    "You would return\n",
    "[{{\"date\": \"2022-10-06\", \"utility\": \"Electric\", \"value\": 128.13, \"currency\": \"GBP\"}},\n",
    "{{\"date\": \"2022-10-06\", \"utility\": \"Water/Sewer\", \"value\": 134.90, \"currency\": \"GBP\"}}\n",
    "\n",
    "Notice that you must infer what the column names and table values represent and give them keys in the JSON output.\n",
    "You should parse numbers as JSON integers or floats.\n",
    "\n",
    "Here is the input:\n",
    "\n",
    "{table_csv}\n",
    "\n",
    "Return the JSON output.\n",
    "\"\"\""
   ]
  },
  {
   "cell_type": "code",
   "execution_count": 32,
   "id": "f0158cb7-3f7e-4788-b763-ecf0de3b9087",
   "metadata": {},
   "outputs": [
    {
     "name": "stdout",
     "output_type": "stream",
     "text": [
      "\n",
      "[{\"date\": \"2010\", \"metric\": \"Net sales\", \"value\": 65225.0, \"currency\": \"USD\"},\n",
      "{\"date\": \"2010\", \"metric\": \"Net income\", \"value\": 14013.0, \"currency\": \"USD\"},\n",
      "{\"date\": \"2010\", \"metric\": \"Earnings per common share: Basic\", \"value\": 15.41, \"currency\": \"USD\"},\n",
      "{\"date\": \"2010\", \"metric\": \"Earnings per common share: Diluted\", \"value\": 15.15, \"currency\": \"USD\"},\n",
      "{\"date\": \"2010\", \"metric\": \"Cash dividends declared per common share\", \"value\": 0.0, \"currency\": \"USD\"},\n",
      "{\"date\": \"2010\", \"metric\": \"Shares used in computing earnings per share: Basic\", \"value\": 909461.0, \"currency\": \"USD\"},\n",
      "{\"date\": \"2010\", \"metric\": \"Shares used in computing earnings per share: Diluted\", \"value\": 924712.0, \"currency\": \"USD\"},\n",
      "{\"date\": \"2010\", \"metric\": \"Total cash, cash equivalents and marketable securities\",\n"
     ]
    }
   ],
   "source": [
    "print(llm(prompt))"
   ]
  },
  {
   "cell_type": "markdown",
   "id": "2024911c-6212-4b3e-b93f-bf7fc0a27465",
   "metadata": {},
   "source": [
    "### Question Answering"
   ]
  },
  {
   "cell_type": "code",
   "execution_count": 33,
   "id": "ebf0b93f-a37b-4f7e-b1e9-ef5755e404bf",
   "metadata": {},
   "outputs": [
    {
     "data": {
      "text/html": [
       "<div>\n",
       "<style scoped>\n",
       "    .dataframe tbody tr th:only-of-type {\n",
       "        vertical-align: middle;\n",
       "    }\n",
       "\n",
       "    .dataframe tbody tr th {\n",
       "        vertical-align: top;\n",
       "    }\n",
       "\n",
       "    .dataframe thead th {\n",
       "        text-align: right;\n",
       "    }\n",
       "</style>\n",
       "<table border=\"1\" class=\"dataframe\">\n",
       "  <thead>\n",
       "    <tr style=\"text-align: right;\">\n",
       "      <th></th>\n",
       "      <th>name</th>\n",
       "      <th>type</th>\n",
       "      <th>price</th>\n",
       "      <th>quantity</th>\n",
       "      <th>rating</th>\n",
       "    </tr>\n",
       "  </thead>\n",
       "  <tbody>\n",
       "    <tr>\n",
       "      <th>0</th>\n",
       "      <td>The Da Vinci Code</td>\n",
       "      <td>book</td>\n",
       "      <td>15</td>\n",
       "      <td>300</td>\n",
       "      <td>4.0</td>\n",
       "    </tr>\n",
       "    <tr>\n",
       "      <th>1</th>\n",
       "      <td>Jurassic Park</td>\n",
       "      <td>book</td>\n",
       "      <td>13</td>\n",
       "      <td>400</td>\n",
       "      <td>4.5</td>\n",
       "    </tr>\n",
       "    <tr>\n",
       "      <th>2</th>\n",
       "      <td>Jurassic Park</td>\n",
       "      <td>film</td>\n",
       "      <td>8</td>\n",
       "      <td>6</td>\n",
       "      <td>5.0</td>\n",
       "    </tr>\n",
       "    <tr>\n",
       "      <th>3</th>\n",
       "      <td>Matilda</td>\n",
       "      <td>book</td>\n",
       "      <td>5</td>\n",
       "      <td>80</td>\n",
       "      <td>4.0</td>\n",
       "    </tr>\n",
       "  </tbody>\n",
       "</table>\n",
       "</div>"
      ],
      "text/plain": [
       "                name  type  price  quantity  rating\n",
       "0  The Da Vinci Code  book     15       300     4.0\n",
       "1      Jurassic Park  book     13       400     4.5\n",
       "2      Jurassic Park  film      8         6     5.0\n",
       "3            Matilda  book      5        80     4.0"
      ]
     },
     "execution_count": 33,
     "metadata": {},
     "output_type": "execute_result"
    }
   ],
   "source": [
    "product_df = pd.DataFrame(\n",
    "    [\n",
    "        {\"name\": \"The Da Vinci Code\", \"type\": \"book\", \"price\": 15, \"quantity\": 300, \"rating\": 4},\n",
    "        {\"name\": \"Jurassic Park\", \"type\": \"book\", \"price\": 13, \"quantity\": 400, \"rating\": 4.5},\n",
    "        {\"name\": \"Jurassic Park\", \"type\": \"film\", \"price\": 8, \"quantity\": 6, \"rating\": 5},\n",
    "        {\"name\": \"Matilda\", \"type\": \"book\", \"price\": 5, \"quantity\": 80, \"rating\": 4},\n",
    "    ],\n",
    ")\n",
    "\n",
    "product_df"
   ]
  },
  {
   "cell_type": "code",
   "execution_count": 34,
   "id": "7a0ad246-dd88-493c-bf7f-425113de7fb4",
   "metadata": {},
   "outputs": [],
   "source": [
    "product_json = product_df.to_json(orient=\"records\")"
   ]
  },
  {
   "cell_type": "code",
   "execution_count": 35,
   "id": "d3a2ec20-7358-472d-998c-f57116ae1989",
   "metadata": {},
   "outputs": [],
   "source": [
    "prompt_template = \"\"\"\n",
    "Below is a table in JSON form. You will answer a question using the information in the table:\n",
    "\n",
    "{product_json}\n",
    "\n",
    "The question is:\n",
    "\n",
    "{question}\n",
    "\n",
    "Return the answer. Do not explain your reasoning.\n",
    "\"\"\""
   ]
  },
  {
   "cell_type": "code",
   "execution_count": 36,
   "id": "67a47e9f-29b4-48f9-a251-9ce5fe4bc437",
   "metadata": {},
   "outputs": [],
   "source": [
    "prompt = PromptTemplate(\n",
    "    input_variables=[\"product_json\", \"question\"],\n",
    "    template=prompt_template,\n",
    ")\n",
    "\n",
    "chain = LLMChain(llm=llm, prompt=prompt)"
   ]
  },
  {
   "cell_type": "code",
   "execution_count": 37,
   "id": "f23d3e3b-66e7-4248-8a0c-4141c463beae",
   "metadata": {},
   "outputs": [
    {
     "name": "stdout",
     "output_type": "stream",
     "text": [
      "\n",
      "The Da Vinci Code\n"
     ]
    }
   ],
   "source": [
    "print(chain.run(product_json=product_json, question=\"What book has the highest price and lowest rating?\"))"
   ]
  },
  {
   "cell_type": "code",
   "execution_count": 38,
   "id": "1bcaa630-4a16-4d2c-9324-2d57da049c91",
   "metadata": {},
   "outputs": [
    {
     "name": "stdout",
     "output_type": "stream",
     "text": [
      "\n",
      "The Da Vinci Code and Matilda.\n"
     ]
    }
   ],
   "source": [
    "print(chain.run(product_json=product_json, question=\"What books have the lowest rating?\"))"
   ]
  },
  {
   "cell_type": "code",
   "execution_count": 39,
   "id": "21bd0618-5ca9-4b43-9c76-61bbc193ef97",
   "metadata": {},
   "outputs": [
    {
     "name": "stdout",
     "output_type": "stream",
     "text": [
      "\n",
      "5\n"
     ]
    }
   ],
   "source": [
    "print(chain.run(product_json=product_json, question=\"What is the price of the book with the highest rating?\"))"
   ]
  },
  {
   "cell_type": "code",
   "execution_count": 40,
   "id": "1e07fa8c-541d-492a-bb34-a3aa3aa49245",
   "metadata": {},
   "outputs": [
    {
     "name": "stdout",
     "output_type": "stream",
     "text": [
      "\n",
      "13\n"
     ]
    }
   ],
   "source": [
    "print(chain.run(product_json=product_json, question=\"What is the price of the product of type book with the highest rating?\"))"
   ]
  },
  {
   "cell_type": "code",
   "execution_count": 41,
   "id": "04d5b6ac-5033-4a5f-8a1e-3b48334478b0",
   "metadata": {},
   "outputs": [],
   "source": [
    "prompt_template = \"\"\"\n",
    "Given a dataframe `df` with columns {columns_string}, write Pandas code that does the following:\n",
    "\n",
    "{question}\n",
    "\n",
    "Return the answer. Do not explain your reasoning.\n",
    "\"\"\""
   ]
  },
  {
   "cell_type": "code",
   "execution_count": 42,
   "id": "49df3d36-7223-4d8c-b2ee-2ab267318c6f",
   "metadata": {},
   "outputs": [],
   "source": [
    "prompt = PromptTemplate(\n",
    "    input_variables=[\"columns_string\", \"question\"],\n",
    "    template=prompt_template,\n",
    ")\n",
    "\n",
    "chain = LLMChain(llm=llm, prompt=prompt)"
   ]
  },
  {
   "cell_type": "code",
   "execution_count": 43,
   "id": "9793919b-2519-4760-951f-4f9913d5ad30",
   "metadata": {},
   "outputs": [],
   "source": [
    "columns_string = '\"' + '\", \"'.join(product_df.columns) + '\"'"
   ]
  },
  {
   "cell_type": "code",
   "execution_count": 44,
   "id": "4ac5ff15-99ff-4595-9ada-5e97d0898d4e",
   "metadata": {},
   "outputs": [
    {
     "name": "stdout",
     "output_type": "stream",
     "text": [
      "\n",
      "```\n",
      "df[df['type'] == 'book']['price'].max()\n",
      "```\n"
     ]
    }
   ],
   "source": [
    "print(chain.run(columns_string=columns_string, question=\"What is the price of the product of type book with the highest rating?\"))"
   ]
  },
  {
   "cell_type": "code",
   "execution_count": 45,
   "id": "35f3806b-4076-42a9-83cc-dfc76d7667a4",
   "metadata": {},
   "outputs": [
    {
     "name": "stdout",
     "output_type": "stream",
     "text": [
      "\n",
      "```\n",
      "df[(df['price'] == df['price'].max()) & (df['rating'] == df['rating'].min())]['name']\n",
      "```\n"
     ]
    }
   ],
   "source": [
    "print(chain.run(columns_string=columns_string, question=\"What book has the highest price and lowest rating?\"))"
   ]
  },
  {
   "cell_type": "code",
   "execution_count": 46,
   "id": "702740f8-d627-421b-8caa-35df730b3d12",
   "metadata": {},
   "outputs": [
    {
     "name": "stdout",
     "output_type": "stream",
     "text": [
      "\n",
      "```\n",
      "df.sort_values(by='rating', ascending=True).head(1)\n",
      "```\n"
     ]
    }
   ],
   "source": [
    "print(chain.run(columns_string=columns_string, question=\"What books have the lowest rating?\"))"
   ]
  },
  {
   "cell_type": "code",
   "execution_count": 47,
   "id": "60afc086-aa89-4644-a4fb-66471bfcf58e",
   "metadata": {},
   "outputs": [
    {
     "name": "stdout",
     "output_type": "stream",
     "text": [
      "\n",
      "```\n",
      "df[df['rating'] == df['rating'].max()]['price'].iloc[0]\n",
      "```\n"
     ]
    }
   ],
   "source": [
    "print(chain.run(columns_string=columns_string, question=\"What is the price of the book with the highest rating?\"))"
   ]
  }
 ],
 "metadata": {
  "kernelspec": {
   "display_name": "Python 3 (ipykernel)",
   "language": "python",
   "name": "python3"
  },
  "language_info": {
   "codemirror_mode": {
    "name": "ipython",
    "version": 3
   },
   "file_extension": ".py",
   "mimetype": "text/x-python",
   "name": "python",
   "nbconvert_exporter": "python",
   "pygments_lexer": "ipython3",
   "version": "3.9.12"
  }
 },
 "nbformat": 4,
 "nbformat_minor": 5
}

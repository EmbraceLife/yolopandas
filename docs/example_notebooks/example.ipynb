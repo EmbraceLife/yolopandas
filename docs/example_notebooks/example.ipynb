{
 "cells": [
  {
   "cell_type": "code",
   "execution_count": 1,
   "id": "7aa7789f-56e5-4372-b21b-75b9aee45bfc",
   "metadata": {},
   "outputs": [],
   "source": [
    "from yolopandas import pd"
   ]
  },
  {
   "cell_type": "code",
   "execution_count": 2,
   "id": "0f0e60c8-3a59-4834-93bc-f18931362387",
   "metadata": {},
   "outputs": [
    {
     "data": {
      "text/html": [
       "<div>\n",
       "<style scoped>\n",
       "    .dataframe tbody tr th:only-of-type {\n",
       "        vertical-align: middle;\n",
       "    }\n",
       "\n",
       "    .dataframe tbody tr th {\n",
       "        vertical-align: top;\n",
       "    }\n",
       "\n",
       "    .dataframe thead th {\n",
       "        text-align: right;\n",
       "    }\n",
       "</style>\n",
       "<table border=\"1\" class=\"dataframe\">\n",
       "  <thead>\n",
       "    <tr style=\"text-align: right;\">\n",
       "      <th></th>\n",
       "      <th>name</th>\n",
       "      <th>type</th>\n",
       "      <th>price</th>\n",
       "      <th>quantity</th>\n",
       "      <th>rating</th>\n",
       "    </tr>\n",
       "  </thead>\n",
       "  <tbody>\n",
       "    <tr>\n",
       "      <th>0</th>\n",
       "      <td>The Da Vinci Code</td>\n",
       "      <td>book</td>\n",
       "      <td>15.0</td>\n",
       "      <td>300</td>\n",
       "      <td>4.0</td>\n",
       "    </tr>\n",
       "    <tr>\n",
       "      <th>1</th>\n",
       "      <td>Jurassic Park</td>\n",
       "      <td>book</td>\n",
       "      <td>12.0</td>\n",
       "      <td>400</td>\n",
       "      <td>4.5</td>\n",
       "    </tr>\n",
       "    <tr>\n",
       "      <th>2</th>\n",
       "      <td>Jurassic Park</td>\n",
       "      <td>film</td>\n",
       "      <td>8.0</td>\n",
       "      <td>6</td>\n",
       "      <td>5.0</td>\n",
       "    </tr>\n",
       "    <tr>\n",
       "      <th>3</th>\n",
       "      <td>Matilda</td>\n",
       "      <td>book</td>\n",
       "      <td>5.0</td>\n",
       "      <td>80</td>\n",
       "      <td>4.0</td>\n",
       "    </tr>\n",
       "    <tr>\n",
       "      <th>4</th>\n",
       "      <td>Clockwork Orange</td>\n",
       "      <td>None</td>\n",
       "      <td>NaN</td>\n",
       "      <td>20</td>\n",
       "      <td>4.0</td>\n",
       "    </tr>\n",
       "    <tr>\n",
       "      <th>5</th>\n",
       "      <td>Walden</td>\n",
       "      <td>None</td>\n",
       "      <td>NaN</td>\n",
       "      <td>100</td>\n",
       "      <td>4.5</td>\n",
       "    </tr>\n",
       "  </tbody>\n",
       "</table>\n",
       "</div>"
      ],
      "text/plain": [
       "                name  type  price  quantity  rating\n",
       "0  The Da Vinci Code  book   15.0       300     4.0\n",
       "1      Jurassic Park  book   12.0       400     4.5\n",
       "2      Jurassic Park  film    8.0         6     5.0\n",
       "3            Matilda  book    5.0        80     4.0\n",
       "4   Clockwork Orange  None    NaN        20     4.0\n",
       "5             Walden  None    NaN       100     4.5"
      ]
     },
     "execution_count": 2,
     "metadata": {},
     "output_type": "execute_result"
    }
   ],
   "source": [
    "product_df = pd.DataFrame(\n",
    "    [\n",
    "        {\"name\": \"The Da Vinci Code\", \"type\": \"book\", \"price\": 15, \"quantity\": 300, \"rating\": 4},\n",
    "        {\"name\": \"Jurassic Park\", \"type\": \"book\", \"price\": 12, \"quantity\": 400, \"rating\": 4.5},\n",
    "        {\"name\": \"Jurassic Park\", \"type\": \"film\", \"price\": 8, \"quantity\": 6, \"rating\": 5},\n",
    "        {\"name\": \"Matilda\", \"type\": \"book\", \"price\": 5, \"quantity\": 80, \"rating\": 4},\n",
    "        {\"name\": \"Clockwork Orange\", \"type\": None, \"price\": None, \"quantity\": 20, \"rating\": 4},\n",
    "        {\"name\": \"Walden\", \"type\": None, \"price\": None, \"quantity\": 100, \"rating\": 4.5},\n",
    "    ],\n",
    ")\n",
    "\n",
    "product_df"
   ]
  },
  {
   "cell_type": "code",
   "execution_count": 3,
   "id": "b0790116-253e-46e0-a12e-8a31cb2f7db5",
   "metadata": {},
   "outputs": [
    {
     "name": "stdout",
     "output_type": "stream",
     "text": [
      "\u001b[32;1m\u001b[1;3mdf.isnull().sum()\n",
      "\u001b[0m"
     ]
    },
    {
     "data": {
      "text/plain": [
       "name        0\n",
       "type        2\n",
       "price       2\n",
       "quantity    0\n",
       "rating      0\n",
       "dtype: int64"
      ]
     },
     "execution_count": 3,
     "metadata": {},
     "output_type": "execute_result"
    }
   ],
   "source": [
    "product_df.llm.query(\"What columns are missing values?\")"
   ]
  },
  {
   "cell_type": "code",
   "execution_count": 4,
   "id": "bc4c7b71-d4b9-4b45-8a73-25bae097e93d",
   "metadata": {},
   "outputs": [
    {
     "data": {
      "text/plain": [
       "name    0\n",
       "type    2\n",
       "dtype: int64"
      ]
     },
     "execution_count": 4,
     "metadata": {},
     "output_type": "execute_result"
    }
   ],
   "source": [
    "product_df.llm.query(\"Of these, are any strings?\", yolo=True)"
   ]
  },
  {
   "cell_type": "code",
   "execution_count": 5,
   "id": "403c03f2-ea70-4aad-ba4c-3bb98943e238",
   "metadata": {},
   "outputs": [
    {
     "name": "stdout",
     "output_type": "stream",
     "text": [
      "\u001b[32;1m\u001b[1;3mimport random\n",
      "\n",
      "fruits = ['apple', 'banana', 'orange', 'strawberry', 'grape']\n",
      "\n",
      "df['type'] = df['type'].fillna(random.choice(fruits))\n",
      "\u001b[0m"
     ]
    }
   ],
   "source": [
    "product_df.llm.query(\"Impute the type column with random fruits.\")"
   ]
  },
  {
   "cell_type": "code",
   "execution_count": 6,
   "id": "4ee691c0-a959-4d16-8e99-3eb111363a68",
   "metadata": {},
   "outputs": [
    {
     "data": {
      "text/html": [
       "<div>\n",
       "<style scoped>\n",
       "    .dataframe tbody tr th:only-of-type {\n",
       "        vertical-align: middle;\n",
       "    }\n",
       "\n",
       "    .dataframe tbody tr th {\n",
       "        vertical-align: top;\n",
       "    }\n",
       "\n",
       "    .dataframe thead th {\n",
       "        text-align: right;\n",
       "    }\n",
       "</style>\n",
       "<table border=\"1\" class=\"dataframe\">\n",
       "  <thead>\n",
       "    <tr style=\"text-align: right;\">\n",
       "      <th></th>\n",
       "      <th>name</th>\n",
       "      <th>type</th>\n",
       "      <th>price</th>\n",
       "      <th>quantity</th>\n",
       "      <th>rating</th>\n",
       "    </tr>\n",
       "  </thead>\n",
       "  <tbody>\n",
       "    <tr>\n",
       "      <th>0</th>\n",
       "      <td>The Da Vinci Code</td>\n",
       "      <td>book</td>\n",
       "      <td>15.0</td>\n",
       "      <td>300</td>\n",
       "      <td>4.0</td>\n",
       "    </tr>\n",
       "    <tr>\n",
       "      <th>1</th>\n",
       "      <td>Jurassic Park</td>\n",
       "      <td>book</td>\n",
       "      <td>12.0</td>\n",
       "      <td>400</td>\n",
       "      <td>4.5</td>\n",
       "    </tr>\n",
       "    <tr>\n",
       "      <th>2</th>\n",
       "      <td>Jurassic Park</td>\n",
       "      <td>film</td>\n",
       "      <td>8.0</td>\n",
       "      <td>6</td>\n",
       "      <td>5.0</td>\n",
       "    </tr>\n",
       "    <tr>\n",
       "      <th>3</th>\n",
       "      <td>Matilda</td>\n",
       "      <td>book</td>\n",
       "      <td>5.0</td>\n",
       "      <td>80</td>\n",
       "      <td>4.0</td>\n",
       "    </tr>\n",
       "    <tr>\n",
       "      <th>4</th>\n",
       "      <td>Clockwork Orange</td>\n",
       "      <td>apple</td>\n",
       "      <td>NaN</td>\n",
       "      <td>20</td>\n",
       "      <td>4.0</td>\n",
       "    </tr>\n",
       "    <tr>\n",
       "      <th>5</th>\n",
       "      <td>Walden</td>\n",
       "      <td>apple</td>\n",
       "      <td>NaN</td>\n",
       "      <td>100</td>\n",
       "      <td>4.5</td>\n",
       "    </tr>\n",
       "  </tbody>\n",
       "</table>\n",
       "</div>"
      ],
      "text/plain": [
       "                name   type  price  quantity  rating\n",
       "0  The Da Vinci Code   book   15.0       300     4.0\n",
       "1      Jurassic Park   book   12.0       400     4.5\n",
       "2      Jurassic Park   film    8.0         6     5.0\n",
       "3            Matilda   book    5.0        80     4.0\n",
       "4   Clockwork Orange  apple    NaN        20     4.0\n",
       "5             Walden  apple    NaN       100     4.5"
      ]
     },
     "execution_count": 6,
     "metadata": {},
     "output_type": "execute_result"
    }
   ],
   "source": [
    "product_df"
   ]
  },
  {
   "cell_type": "code",
   "execution_count": 7,
   "id": "d55ae853-8253-46b2-923c-a4dd36b7c8f8",
   "metadata": {},
   "outputs": [
    {
     "name": "stdout",
     "output_type": "stream",
     "text": [
      "\u001b[32;1m\u001b[1;3msplit_index = round(len(df) / 3)\n",
      "\n",
      "df1 = df[:split_index]\n",
      "df2 = df[split_index:]\n",
      "\n",
      "(df1, df2)\n",
      "\u001b[0m"
     ]
    },
    {
     "data": {
      "text/html": [
       "<div>\n",
       "<style scoped>\n",
       "    .dataframe tbody tr th:only-of-type {\n",
       "        vertical-align: middle;\n",
       "    }\n",
       "\n",
       "    .dataframe tbody tr th {\n",
       "        vertical-align: top;\n",
       "    }\n",
       "\n",
       "    .dataframe thead th {\n",
       "        text-align: right;\n",
       "    }\n",
       "</style>\n",
       "<table border=\"1\" class=\"dataframe\">\n",
       "  <thead>\n",
       "    <tr style=\"text-align: right;\">\n",
       "      <th></th>\n",
       "      <th>name</th>\n",
       "      <th>type</th>\n",
       "      <th>price</th>\n",
       "      <th>quantity</th>\n",
       "      <th>rating</th>\n",
       "    </tr>\n",
       "  </thead>\n",
       "  <tbody>\n",
       "    <tr>\n",
       "      <th>0</th>\n",
       "      <td>The Da Vinci Code</td>\n",
       "      <td>book</td>\n",
       "      <td>15.0</td>\n",
       "      <td>300</td>\n",
       "      <td>4.0</td>\n",
       "    </tr>\n",
       "    <tr>\n",
       "      <th>1</th>\n",
       "      <td>Jurassic Park</td>\n",
       "      <td>book</td>\n",
       "      <td>12.0</td>\n",
       "      <td>400</td>\n",
       "      <td>4.5</td>\n",
       "    </tr>\n",
       "  </tbody>\n",
       "</table>\n",
       "</div>"
      ],
      "text/plain": [
       "                name  type  price  quantity  rating\n",
       "0  The Da Vinci Code  book   15.0       300     4.0\n",
       "1      Jurassic Park  book   12.0       400     4.5"
      ]
     },
     "metadata": {},
     "output_type": "display_data"
    },
    {
     "data": {
      "text/html": [
       "<div>\n",
       "<style scoped>\n",
       "    .dataframe tbody tr th:only-of-type {\n",
       "        vertical-align: middle;\n",
       "    }\n",
       "\n",
       "    .dataframe tbody tr th {\n",
       "        vertical-align: top;\n",
       "    }\n",
       "\n",
       "    .dataframe thead th {\n",
       "        text-align: right;\n",
       "    }\n",
       "</style>\n",
       "<table border=\"1\" class=\"dataframe\">\n",
       "  <thead>\n",
       "    <tr style=\"text-align: right;\">\n",
       "      <th></th>\n",
       "      <th>name</th>\n",
       "      <th>type</th>\n",
       "      <th>price</th>\n",
       "      <th>quantity</th>\n",
       "      <th>rating</th>\n",
       "    </tr>\n",
       "  </thead>\n",
       "  <tbody>\n",
       "    <tr>\n",
       "      <th>2</th>\n",
       "      <td>Jurassic Park</td>\n",
       "      <td>film</td>\n",
       "      <td>8.0</td>\n",
       "      <td>6</td>\n",
       "      <td>5.0</td>\n",
       "    </tr>\n",
       "    <tr>\n",
       "      <th>3</th>\n",
       "      <td>Matilda</td>\n",
       "      <td>book</td>\n",
       "      <td>5.0</td>\n",
       "      <td>80</td>\n",
       "      <td>4.0</td>\n",
       "    </tr>\n",
       "    <tr>\n",
       "      <th>4</th>\n",
       "      <td>Clockwork Orange</td>\n",
       "      <td>apple</td>\n",
       "      <td>NaN</td>\n",
       "      <td>20</td>\n",
       "      <td>4.0</td>\n",
       "    </tr>\n",
       "    <tr>\n",
       "      <th>5</th>\n",
       "      <td>Walden</td>\n",
       "      <td>apple</td>\n",
       "      <td>NaN</td>\n",
       "      <td>100</td>\n",
       "      <td>4.5</td>\n",
       "    </tr>\n",
       "  </tbody>\n",
       "</table>\n",
       "</div>"
      ],
      "text/plain": [
       "               name   type  price  quantity  rating\n",
       "2     Jurassic Park   film    8.0         6     5.0\n",
       "3           Matilda   book    5.0        80     4.0\n",
       "4  Clockwork Orange  apple    NaN        20     4.0\n",
       "5            Walden  apple    NaN       100     4.5"
      ]
     },
     "metadata": {},
     "output_type": "display_data"
    }
   ],
   "source": [
    "from IPython.display import display\n",
    "\n",
    "\n",
    "df1, df2 = product_df.llm.query(\"Split the dataframe into two, 1/3 in one, 2/3 in the other. Return (df1, df2).\")\n",
    "\n",
    "display(df1)\n",
    "display(df2)"
   ]
  },
  {
   "cell_type": "code",
   "execution_count": 8,
   "id": "67aea456-2fc9-4e57-b5a7-7cd987479c14",
   "metadata": {},
   "outputs": [
    {
     "name": "stdout",
     "output_type": "stream",
     "text": [
      "\u001b[32;1m\u001b[1;3mdf[df['type'] == 'book']\n",
      "\u001b[0m"
     ]
    },
    {
     "data": {
      "text/html": [
       "<div>\n",
       "<style scoped>\n",
       "    .dataframe tbody tr th:only-of-type {\n",
       "        vertical-align: middle;\n",
       "    }\n",
       "\n",
       "    .dataframe tbody tr th {\n",
       "        vertical-align: top;\n",
       "    }\n",
       "\n",
       "    .dataframe thead th {\n",
       "        text-align: right;\n",
       "    }\n",
       "</style>\n",
       "<table border=\"1\" class=\"dataframe\">\n",
       "  <thead>\n",
       "    <tr style=\"text-align: right;\">\n",
       "      <th></th>\n",
       "      <th>name</th>\n",
       "      <th>type</th>\n",
       "      <th>price</th>\n",
       "      <th>quantity</th>\n",
       "      <th>rating</th>\n",
       "    </tr>\n",
       "  </thead>\n",
       "  <tbody>\n",
       "    <tr>\n",
       "      <th>0</th>\n",
       "      <td>The Da Vinci Code</td>\n",
       "      <td>book</td>\n",
       "      <td>15.0</td>\n",
       "      <td>300</td>\n",
       "      <td>4.0</td>\n",
       "    </tr>\n",
       "    <tr>\n",
       "      <th>1</th>\n",
       "      <td>Jurassic Park</td>\n",
       "      <td>book</td>\n",
       "      <td>12.0</td>\n",
       "      <td>400</td>\n",
       "      <td>4.5</td>\n",
       "    </tr>\n",
       "    <tr>\n",
       "      <th>3</th>\n",
       "      <td>Matilda</td>\n",
       "      <td>book</td>\n",
       "      <td>5.0</td>\n",
       "      <td>80</td>\n",
       "      <td>4.0</td>\n",
       "    </tr>\n",
       "  </tbody>\n",
       "</table>\n",
       "</div>"
      ],
      "text/plain": [
       "                name  type  price  quantity  rating\n",
       "0  The Da Vinci Code  book   15.0       300     4.0\n",
       "1      Jurassic Park  book   12.0       400     4.5\n",
       "3            Matilda  book    5.0        80     4.0"
      ]
     },
     "execution_count": 8,
     "metadata": {},
     "output_type": "execute_result"
    }
   ],
   "source": [
    "product_df.llm.query(\"Now show me all products that are books.\")"
   ]
  },
  {
   "cell_type": "code",
   "execution_count": 9,
   "id": "c35d7246-6cf2-4148-8726-aa2bd9cc46f9",
   "metadata": {},
   "outputs": [
    {
     "name": "stdout",
     "output_type": "stream",
     "text": [
      "\u001b[32;1m\u001b[1;3mdf[df['type'] == 'book'].sort_values(by='quantity').head(1)\n",
      "\u001b[0m"
     ]
    },
    {
     "data": {
      "text/html": [
       "<div>\n",
       "<style scoped>\n",
       "    .dataframe tbody tr th:only-of-type {\n",
       "        vertical-align: middle;\n",
       "    }\n",
       "\n",
       "    .dataframe tbody tr th {\n",
       "        vertical-align: top;\n",
       "    }\n",
       "\n",
       "    .dataframe thead th {\n",
       "        text-align: right;\n",
       "    }\n",
       "</style>\n",
       "<table border=\"1\" class=\"dataframe\">\n",
       "  <thead>\n",
       "    <tr style=\"text-align: right;\">\n",
       "      <th></th>\n",
       "      <th>name</th>\n",
       "      <th>type</th>\n",
       "      <th>price</th>\n",
       "      <th>quantity</th>\n",
       "      <th>rating</th>\n",
       "    </tr>\n",
       "  </thead>\n",
       "  <tbody>\n",
       "    <tr>\n",
       "      <th>3</th>\n",
       "      <td>Matilda</td>\n",
       "      <td>book</td>\n",
       "      <td>5.0</td>\n",
       "      <td>80</td>\n",
       "      <td>4.0</td>\n",
       "    </tr>\n",
       "  </tbody>\n",
       "</table>\n",
       "</div>"
      ],
      "text/plain": [
       "      name  type  price  quantity  rating\n",
       "3  Matilda  book    5.0        80     4.0"
      ]
     },
     "execution_count": 9,
     "metadata": {},
     "output_type": "execute_result"
    }
   ],
   "source": [
    "product_df.llm.query(\"Of these, which has the lowest items stocked?\")"
   ]
  },
  {
   "cell_type": "code",
   "execution_count": 10,
   "id": "023d3262-5228-4a85-a24e-f127fed6fb9b",
   "metadata": {},
   "outputs": [
    {
     "name": "stdout",
     "output_type": "stream",
     "text": [
      "\u001b[32;1m\u001b[1;3mimport seaborn as sns\n",
      "\n",
      "sns.catplot(x='type', y='price', data=df[df['type'] != 'apple'], kind='bar')\n",
      "\u001b[0m"
     ]
    },
    {
     "data": {
      "text/plain": [
       "<seaborn.axisgrid.FacetGrid at 0x7f592a698280>"
      ]
     },
     "execution_count": 10,
     "metadata": {},
     "output_type": "execute_result"
    },
    {
     "data": {
      "image/png": "[encoded data removed]",
      "text/plain": [
       "<Figure size 360x360 with 1 Axes>"
      ]
     },
     "metadata": {
      "needs_background": "light"
     },
     "output_type": "display_data"
    }
   ],
   "source": [
    "product_df.llm.query(\"Now make a seaborn plot of price grouped by type, but exclude those random fruits you made.\")"
   ]
  },
  {
   "cell_type": "code",
   "execution_count": 11,
   "id": "2ad7daa9-f830-492d-b52c-40194be8f045",
   "metadata": {},
   "outputs": [
    {
     "name": "stdout",
     "output_type": "stream",
     "text": [
      "\u001b[32;1m\u001b[1;3mimport seaborn as sns\n",
      "\n",
      "sns.set_style(\"dark\")\n",
      "sns.set_palette(\"pastel\")\n",
      "\n",
      "sns.catplot(x='type', y='price', data=df[df['type'] != 'apple'], kind='bar')\n",
      "\u001b[0m"
     ]
    },
    {
     "data": {
      "text/plain": [
       "<seaborn.axisgrid.FacetGrid at 0x7f592a61ee80>"
      ]
     },
     "execution_count": 11,
     "metadata": {},
     "output_type": "execute_result"
    },
    {
     "data": {
      "image/png": "[encoded data removed]",
      "text/plain": [
       "<Figure size 360x360 with 1 Axes>"
      ]
     },
     "metadata": {},
     "output_type": "display_data"
    }
   ],
   "source": [
    "product_df.llm.query(\"Can you use a dark theme, and pastel colors?\")"
   ]
  },
  {
   "cell_type": "code",
   "execution_count": 12,
   "id": "42811777-24b0-4b52-bc21-3d10247537d7",
   "metadata": {},
   "outputs": [
    {
     "data": {
      "text/plain": [
       "<AxesSubplot:xlabel='type'>"
      ]
     },
     "execution_count": 12,
     "metadata": {},
     "output_type": "execute_result"
    },
    {
     "data": {
      "image/png": "[encoded data removed]",
      "text/plain": [
       "<Figure size 432x288 with 1 Axes>"
      ]
     },
     "metadata": {},
     "output_type": "display_data"
    }
   ],
   "source": [
    "product_df.llm.query(\"Group by type and take the mean of all numeric columns.\", yolo=True).llm.query(\"Make a bar plot of the result and use a log scale.\", yolo=True)"
   ]
  }
 ],
 "metadata": {
  "kernelspec": {
   "display_name": "Python 3 (ipykernel)",
   "language": "python",
   "name": "python3"
  },
  "language_info": {
   "codemirror_mode": {
    "name": "ipython",
    "version": 3
   },
   "file_extension": ".py",
   "mimetype": "text/x-python",
   "name": "python",
   "nbconvert_exporter": "python",
   "pygments_lexer": "ipython3",
   "version": "3.9.12"
  }
 },
 "nbformat": 4,
 "nbformat_minor": 5
}
